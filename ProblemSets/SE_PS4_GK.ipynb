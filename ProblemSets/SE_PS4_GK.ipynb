{
 "cells": [
  {
   "cell_type": "markdown",
   "metadata": {},
   "source": [
    "__Structural Estimation__ <br>\n",
    "Problem Set 4 <br>\n",
    "February 18, 2019 <br>\n",
    "Ginha Kim <br>"
   ]
  },
  {
   "cell_type": "code",
   "execution_count": 109,
   "metadata": {
    "collapsed": true
   },
   "outputs": [],
   "source": [
    "# Import libraries\n",
    "import numpy as np\n",
    "import scipy.stats as sts\n",
    "import pandas as pd\n",
    "from pandas import DataFrame, Series\n",
    "import scipy.integrate as integ\n",
    "import scipy.optimize as opt\n",
    "import scipy.special as spc\n",
    "import matplotlib.pyplot as plt\n",
    "%matplotlib notebook"
   ]
  },
  {
   "cell_type": "markdown",
   "metadata": {},
   "source": [
    "## Problem 1\n",
    "Estimating the Brock and Mirman (1972) model by SMM"
   ]
  },
  {
   "cell_type": "code",
   "execution_count": 110,
   "metadata": {
    "collapsed": true
   },
   "outputs": [],
   "source": [
    "# Load Data\n",
    "\n",
    "data = pd.read_csv('NewMacroSeries.txt',sep=',',header=None,names = ['c','k','w','r','y'])"
   ]
  },
  {
   "cell_type": "markdown",
   "metadata": {},
   "source": [
    "## (a)"
   ]
  },
  {
   "cell_type": "code",
   "execution_count": 111,
   "metadata": {
    "collapsed": true
   },
   "outputs": [],
   "source": [
    "# Define primitives\n",
    "\n",
    "k_1 = data['k'].mean()\n",
    "T  = 100\n",
    "S  = 1000\n",
    "u_sims = np.random.uniform(0,1,(T,S))"
   ]
  },
  {
   "cell_type": "code",
   "execution_count": 112,
   "metadata": {
    "collapsed": true
   },
   "outputs": [],
   "source": [
    "# Define function that generates simulated values\n",
    "\n",
    "def sim_vals(alpha, beta, rho, mu, sigma, u_sims):\n",
    "    \n",
    "    # use uniform draws to generate normally distributed errors\n",
    "    eps = sts.norm.ppf(u_sims, loc = 0, scale = sigma)\n",
    "    \n",
    "    # use equation (5) to generate simulated values for z\n",
    "    z_s = np.zeros((T,S))\n",
    "    z_0 = mu\n",
    "    z_s[0,:] = (rho * z_0) + ((1-rho)*mu) + eps[0,:]\n",
    "    \n",
    "    for i in range(1,T):\n",
    "        z_s[i,:] = (rho * z_s[i-1,:]) + ((1-rho)*mu) + eps[i,:]\n",
    "    \n",
    "    # use euqtion (7) to generate simulated values for k\n",
    "    k_s = np.zeros((T+1,S))\n",
    "    k_s[0,:] = k_1\n",
    "    \n",
    "    for i in range(1,T+1):\n",
    "        k_s[i,:] = alpha * beta * np.exp(z_s[i-1,:])*(k_s[i-1,:]**alpha)\n",
    "    \n",
    "    k_st  = k_s[:-1,:]\n",
    "    k_st1 = k_s[1:,:]\n",
    "    \n",
    "    # use equation (3) and (4) to generate simulated values for w and r\n",
    "    w_s = np.zeros((T,S))\n",
    "    r_s = np.zeros((T,S))\n",
    "    \n",
    "    for i in range(T):\n",
    "        w_s[i,:] = (1-alpha)*np.exp(z_s[1,:]) * (k_st[i,:]**alpha)\n",
    "    \n",
    "    for i in range(T):\n",
    "        r_s[i,:] = alpha * np.exp(z_s[1,:]) * (k_st[i,:]**(alpha-1))\n",
    "    \n",
    "    # use equation (2) to generate simulated values for c\n",
    "    c_s = np.zeros((T,S))\n",
    "    \n",
    "    for i in range(T):\n",
    "        c_s[i,:] = w_s[i,:] + r_s[i,:]*k_st[i,:] - k_st1[i,:]\n",
    "    \n",
    "    # use equation (6) to generate simulated values for y\n",
    "    y_s = np.zeros((T,S))\n",
    "    \n",
    "    for i in range(T):\n",
    "        y_s[i,:] = np.exp(z_s[i,:]) * (k_st[i,:]**alpha)\n",
    "        \n",
    "    \n",
    "    return c_s, k_st, y_s"
   ]
  },
  {
   "cell_type": "code",
   "execution_count": 119,
   "metadata": {
    "collapsed": true
   },
   "outputs": [],
   "source": [
    "# Generate data moments\n",
    "\n",
    "# moment 1 : mean(c_t)\n",
    "dm1 = np.mean(data['c'])\n",
    "# moment 2 : mean(k_t)\n",
    "dm2 = np.mean(data['k'])\n",
    "# moment 3 : mean(c_t/y_t)\n",
    "dm3 = np.mean(data['c']/data['y'])\n",
    "# moment 4 : var(y_t)\n",
    "dm4 = np.var(data['y'])\n",
    "# moment 5 : corr(c_t,c_t-1)\n",
    "ct  = data['c'][1:100]\n",
    "ct_1 = data['c'][0:99]\n",
    "dm5 = np.corrcoef(ct,ct_1)[0][1]\n",
    "# moment 6 : corr(c_t,k_t)\n",
    "dm6 = np.corrcoef(data['c'],data['k'])[0][1]\n",
    "\n",
    "data_moms = np.array([dm1,dm2,dm3,dm4,dm5,dm6])"
   ]
  },
  {
   "cell_type": "code",
   "execution_count": 124,
   "metadata": {
    "collapsed": true
   },
   "outputs": [],
   "source": [
    "# Define function that generates model moments\n",
    "\n",
    "def model_moms(alpha, beta, rho, mu, sigma, u_sims):\n",
    "    \n",
    "    c_s, k_st, y_s = sim_vals(alpha, beta, rho, mu, sigma, u_sims)\n",
    "    mm1 = np.mean(c_s)\n",
    "    mm2 = np.mean(k_st)\n",
    "    mm3 = np.mean(c_s/y_s)\n",
    "    mm4 = np.mean(np.var(y_s,axis=0))\n",
    "    \n",
    "    corr_c = np.zeros((1,1000))\n",
    "    corr_ck = np.zeros((1,1000))\n",
    "    \n",
    "    for i in range(1000): \n",
    "        corr_c[0,i] = np.corrcoef(c_s[0:99,i],c_s[1:100,i])[0,1]\n",
    "        corr_ck[0,i] = np.corrcoef(c_s[:,i],k_st[:,i])[0,1]\n",
    "    \n",
    "    mm5 = np.mean(corr_c)\n",
    "    mm6 = np.mean(corr_ck)\n",
    "    \n",
    "    model_moms = np.array([mm1,mm2,mm3,mm4,mm5,mm6])\n",
    "    \n",
    "    return model_moms"
   ]
  },
  {
   "cell_type": "code",
   "execution_count": 125,
   "metadata": {},
   "outputs": [
    {
     "name": "stdout",
     "output_type": "stream",
     "text": [
      "Data Moments : \n",
      "[  9.28179049e+06   6.64398514e+06   5.84200000e-01   2.83778251e+13\n",
      "   9.40559181e-01   9.40803054e-01]\n",
      "Model Moments : \n",
      "[  2.61430243e+06   3.21344068e+06   8.87436269e-01   4.25761580e+13\n",
      "   2.91003228e-01   8.43988722e-02]\n"
     ]
    }
   ],
   "source": [
    "print('Data Moments : ')\n",
    "print(data_moms)\n",
    "print('Model Moments : ')\n",
    "print(model_moms(0.5, 0.99, 0.5, 8, 0.5, u_sims))"
   ]
  },
  {
   "cell_type": "code",
   "execution_count": 126,
   "metadata": {
    "collapsed": true
   },
   "outputs": [],
   "source": [
    "# Define error vector\n",
    "\n",
    "def err_vec(alpha, beta, rho, mu, sigma, u_sims):\n",
    "    \n",
    "    mms = model_moms(alpha, beta, rho, mu, sigma, u_sims)\n",
    "    \n",
    "    return (mms - data_moms)/data_moms\n",
    "\n",
    "# Define criterion function\n",
    "\n",
    "def smm_crit(params,*args):\n",
    "    \n",
    "    alpha, rho, mu, sigma = params\n",
    "    \n",
    "    beta, u_sims = args\n",
    "    \n",
    "    err = err_vec(alpha, beta, rho, mu, sigma, u_sims)\n",
    "    M = np.eye(6)\n",
    "    crit_val = err.T @ M @ err\n",
    "    return crit_val"
   ]
  },
  {
   "cell_type": "code",
   "execution_count": 129,
   "metadata": {},
   "outputs": [
    {
     "name": "stdout",
     "output_type": "stream",
     "text": [
      "      fun: 1.1119626577574797\n",
      " hess_inv: <4x4 LbfgsInvHessProduct with dtype=float64>\n",
      "      jac: array([  1.38378198e-04,   9.14823772e-06,   7.61612995e-06,\n",
      "         2.71560552e-05])\n",
      "  message: b'CONVERGENCE: REL_REDUCTION_OF_F_<=_FACTR*EPSMCH'\n",
      "     nfev: 205\n",
      "      nit: 33\n",
      "   status: 0\n",
      "  success: True\n",
      "        x: array([ 0.44554957,  0.78812334,  9.55678217,  0.12415325])\n",
      "alpha smm =  0.445549569591\n",
      "rho smm =  0.788123335555\n",
      "mu smm =  9.55678217316\n",
      "sigma smm =  0.124153245646\n",
      "Value of Minimized Criterion Function =  1.11196265776\n"
     ]
    }
   ],
   "source": [
    "# Simulated Method of Moments\n",
    "\n",
    "alpha_0 = 0.4916\n",
    "rho_0   = 0.5018\n",
    "mu_0    = 8.7595\n",
    "sigma_0 = 0.2\n",
    "params_0 = np.array([alpha_0,rho_0,mu_0,sigma_0])\n",
    "\n",
    "beta    = 0.99\n",
    "\n",
    "bounds = ((0.01, 0.99), (-0.99, 0.99), (5, 14), (0.01, 1.1))\n",
    "\n",
    "smm_args = (beta,u_sims)\n",
    "results = opt.minimize(smm_crit,params_0, args = smm_args,method = 'L-BFGS-B', bounds = bounds)\n",
    "\n",
    "alpha_smm_a, rho_smm_a, mu_smm_a, sigma_smm_a = results.x \n",
    "\n",
    "err_smm_a = err_vec(alpha_smm_a, beta, rho_smm_a, mu_smm_a, sigma_smm_a, u_sims)\n",
    "val_min_crit_smm = err_smm_a.T @ W @ err_smm_a\n",
    "\n",
    "print(results)\n",
    "print('alpha smm = ', alpha_smm_a)\n",
    "print('rho smm = ', rho_smm_a)\n",
    "print('mu smm = ', mu_smm_a)\n",
    "print('sigma smm = ', sigma_smm_a)\n",
    "print('Value of Minimized Criterion Function = ',val_min_crit_smm)"
   ]
  },
  {
   "cell_type": "code",
   "execution_count": 136,
   "metadata": {},
   "outputs": [
    {
     "name": "stdout",
     "output_type": "stream",
     "text": [
      "Jacobian Matrix = \n",
      "[[  2.70149865e+01  -8.75523183e-02   1.71790795e+00   3.95330183e-02]\n",
      " [  3.54922788e+01   2.90520021e-01   1.96230745e+00   9.12952755e-01]\n",
      " [ -1.69462513e+00   1.55558529e-01   9.94716054e-13   9.30098585e-01]\n",
      " [  6.13743809e+01   5.25285263e+00   3.47434602e+00   1.79739614e+01]\n",
      " [  9.23399095e-01   1.16813127e+00  -6.16874994e-04   9.64811423e-01]\n",
      " [ -2.87614160e-01  -1.05104094e+00   9.64905301e-03  -1.38979735e+00]]\n",
      "Variance-Covariance Matrix =\n",
      "[[  8.82318157e-05  -1.01361975e-04  -1.50651085e-03   1.97536086e-05]\n",
      " [ -1.01361975e-04   9.61511098e-04   1.79235240e-03  -2.86043974e-04]\n",
      " [ -1.50651085e-03   1.79235240e-03   2.58872035e-02  -3.87862218e-04]\n",
      " [  1.97536086e-05  -2.86043974e-04  -3.87862218e-04   9.56992555e-05]]\n",
      "Vector of Moment Differences at Optimum = \n",
      "[-0.03977885  0.10648236  0.01689979 -0.03823566 -0.61968085 -0.84456491]\n",
      "Standard Error alpha smm =  0.00939317921159\n",
      "Standard Error rho smm =  0.0310082424241\n",
      "Standard Error mu smm =  0.160895007558\n",
      "Standard Error sigma smm =  0.00978259963093\n"
     ]
    }
   ],
   "source": [
    "# Compute Standard Errors\n",
    "\n",
    "import numpy.linalg as lin\n",
    "\n",
    "def Jac_err(xvals, usims, alpha, rho, mu, sigma, simple=False):\n",
    "    Jac_err = np.zeros((6, 4))\n",
    "    h_alpha = 1e-4 * alpha\n",
    "    h_rho = 1e-4 * rho\n",
    "    h_mu = 1e-4 * mu\n",
    "    h_sigma = 1e-4 * sigma\n",
    "    Jac_err[:, 0] = \\\n",
    "        ((err_vec(alpha + h_alpha, 0.99, rho, mu, sigma, u_sims) -\n",
    "          err_vec(alpha - h_alpha, 0.99, rho, mu, sigma, u_sims)) / (2 * h_alpha)).flatten()\n",
    "    Jac_err[:, 1] = \\\n",
    "        ((err_vec(alpha, 0.99, rho + h_rho, mu, sigma, u_sims) -\n",
    "          err_vec(alpha, 0.99, rho - h_rho, mu, sigma, u_sims)) / (2 * h_rho)).flatten()\n",
    "    Jac_err[:, 2] = \\\n",
    "        ((err_vec(alpha, 0.99, rho, mu + h_mu, sigma, u_sims) -\n",
    "          err_vec(alpha, 0.99, rho, mu - h_mu, sigma, u_sims)) / (2 * h_mu)).flatten()\n",
    "    Jac_err[:, 3] = \\\n",
    "        ((err_vec(alpha, 0.99, rho, mu, sigma + h_sigma, u_sims) -\n",
    "          err_vec(alpha, 0.99, rho, mu, sigma - h_sigma, u_sims)) / (2 * h_sigma)).flatten()\n",
    "    \n",
    "    return Jac_err\n",
    "\n",
    "\n",
    "S = u_sims.shape[1]\n",
    "xvals = (data['c'], data['k'], data['w'], data['r'], data['y'])\n",
    "d_err = Jac_err(xvals, u_sims, alpha_smm_a, rho_smm_a, mu_smm_a, sigma_smm_a, simple = False)\n",
    "print('Jacobian Matrix = ')\n",
    "print(d_err)\n",
    "sig_hat = (1 / S) * lin.inv(d_err.T @ M @ d_err)\n",
    "print('Variance-Covariance Matrix =')\n",
    "print(sig_hat)\n",
    "print('Vector of Moment Differences at Optimum = ')\n",
    "print(err_smm_a)\n",
    "print('Standard Error alpha smm = ',np.sqrt(sig_hat[0,0]))\n",
    "print('Standard Error rho smm = ',np.sqrt(sig_hat[1,1]))\n",
    "print('Standard Error mu smm = ',np.sqrt(sig_hat[2,2]))\n",
    "print('Standard Error sigma smm = ',np.sqrt(sig_hat[3,3]))"
   ]
  },
  {
   "cell_type": "markdown",
   "metadata": {},
   "source": [
    "## (b)"
   ]
  },
  {
   "cell_type": "code",
   "execution_count": 142,
   "metadata": {
    "collapsed": true
   },
   "outputs": [],
   "source": [
    "# Define function to generate model moments\n",
    "\n",
    "def model_moms_b(alpha, beta, rho, mu, sigma, u_sims):\n",
    "    \n",
    "    c_s, k_st, y_s = sim_vals(alpha, beta, rho, mu, sigma, u_sims)\n",
    "    mm1 = np.mean(c_s,0)\n",
    "    mm2 = np.mean(k_st,0)\n",
    "    mm3 = np.mean(c_s/y_s,0)\n",
    "    mm4 = np.mean([np.var(y_s[:,i],axis=0) for i in range(1000)])\n",
    "    \n",
    "    corr_c = np.zeros((1,1000))\n",
    "    corr_ck = np.zeros((1,1000))\n",
    "    \n",
    "    for i in range(1000): \n",
    "        corr_c[0,i] = np.corrcoef(c_s[0:99,i],c_s[1:100,i])[0,1]\n",
    "        corr_ck[0,i] = np.corrcoef(c_s[:,i],k_st[:,i])[0,1]\n",
    "    \n",
    "    mm5 = np.mean(corr_c)\n",
    "    mm6 = np.mean(corr_ck)\n",
    "    \n",
    "    model_moms = np.array([mm1,mm2,mm3,mm4,mm5,mm6])\n",
    "    \n",
    "    return model_moms"
   ]
  },
  {
   "cell_type": "code",
   "execution_count": 147,
   "metadata": {
    "collapsed": true
   },
   "outputs": [],
   "source": [
    "# Define funtion to construct optimal weighting matrix\n",
    "\n",
    "def get_err_mat(xvals,alpha,beta,rho,mu,sigma,simple=False):\n",
    "    \n",
    "    R = 6 \n",
    "    S = u_sims.shape[1]\n",
    "    err_mat = np.zeros((R,S))\n",
    "    \n",
    "    c_s, k_st, y_s = sim_vals(alpha, beta, rho, mu, sigma, u_sims)\n",
    "    \n",
    "    dm1, dm2, dm3, dm4, dm5, dm6 = data_moms\n",
    "    mm1, mm2, mm3, mm4, mm5, mm6 = model_moms_b(alpha, beta, rho, mu, sigma, u_sims)\n",
    "\n",
    "   \n",
    "    if simple:\n",
    "        err_mat[0, :] = mm1 - dm1\n",
    "        err_mat[1, :] = mm2 - dm2\n",
    "        err_mat[2, :] = mm3 - dm3\n",
    "        err_mat[3, :] = mm4 - dm4\n",
    "        err_mat[4, :] = mm5 - dm5\n",
    "        err_mat[5, :] = mm6 - dm6\n",
    "        \n",
    "    else:\n",
    "        err_mat[0, :] = (mm1 - dm1) / dm1\n",
    "        err_mat[1, :] = (mm2 - dm2) / dm2\n",
    "        err_mat[2, :] = (mm3 - dm3) / dm3\n",
    "        err_mat[3, :] = (mm4 - dm4) / dm4\n",
    "        err_mat[4, :] = (mm5 - dm5) / dm5\n",
    "        err_mat[5, :] = (mm6 - dm6) / dm6\n",
    "    \n",
    "    return err_mat"
   ]
  },
  {
   "cell_type": "code",
   "execution_count": 148,
   "metadata": {},
   "outputs": [
    {
     "name": "stdout",
     "output_type": "stream",
     "text": [
      "Variance-Covariance Matrix of Moment Vector =\n",
      "[[  7.48253678e-02  -1.12738322e-04   6.88582836e-02   1.52097024e-03\n",
      "    2.46501886e-02   3.35958170e-02]\n",
      " [ -1.12738322e-04   2.50332076e-02  -5.29230914e-03  -4.07142277e-03\n",
      "   -6.59850778e-02  -8.99312631e-02]\n",
      " [  6.88582836e-02  -5.29230914e-03   7.72612503e-02  -6.46174489e-04\n",
      "   -1.04724752e-02  -1.42729683e-02]\n",
      " [  1.52097024e-03  -4.07142277e-03  -6.46174489e-04   1.46196536e-03\n",
      "    2.36939035e-02   3.22924931e-02]\n",
      " [  2.46501886e-02  -6.59850778e-02  -1.04724752e-02   2.36939035e-02\n",
      "    3.84004352e-01   5.23360699e-01]\n",
      " [  3.35958170e-02  -8.99312631e-02  -1.42729683e-02   3.22924931e-02\n",
      "    5.23360699e-01   7.13289888e-01]]\n",
      "Optimal Two-Step Weighting Matrix =\n",
      "[[  5.16270609e+02  -4.16810950e+02  -5.04737930e+02  -2.35151218e+02\n",
      "   -5.59343042e+01  -3.54707991e+01]\n",
      " [ -4.16810950e+02   4.13191471e+02   4.14564575e+02   2.25242324e+02\n",
      "    5.09316057e+01   3.25555766e+01]\n",
      " [ -5.04737930e+02   4.14564575e+02   5.07104856e+02   2.33831980e+02\n",
      "    5.53812585e+01   3.51627038e+01]\n",
      " [ -2.15821212e+02   2.00526210e+02   2.14578053e+02   1.40300508e+17\n",
      "    1.86972029e+15  -7.72363577e+15]\n",
      " [ -5.56338565e+01   5.09379534e+01   5.50891367e+01   1.86972029e+15\n",
      "   -4.75074825e+14   2.63928546e+14]\n",
      " [ -3.63765111e+01   3.35692242e+01   3.60534217e+01  -7.72363577e+15\n",
      "    2.63928546e+14   1.56017390e+14]]\n"
     ]
    }
   ],
   "source": [
    "# Compute the optimal weighting matrix\n",
    "\n",
    "xvals   = (data['c'], data['k'], data['w'], data['r'], data['y'])\n",
    "err_mat = get_err_mat(xvals,alpha_smm_a, 0.99, rho_smm_a, mu_smm_a, sigma_smm_a,simple=False)\n",
    "VCV_b = (1 / u_sims.shape[1]) * (err_mat @ err_mat.T)\n",
    "print('Variance-Covariance Matrix of Moment Vector =')\n",
    "print(VCV_b)\n",
    "W_2 = lin.inv(VCV_b)\n",
    "print('Optimal Two-Step Weighting Matrix =')\n",
    "print(W_2)"
   ]
  },
  {
   "cell_type": "code",
   "execution_count": 149,
   "metadata": {
    "collapsed": true
   },
   "outputs": [],
   "source": [
    "# Define error vector\n",
    "\n",
    "def err_vec(alpha, beta, rho, mu, sigma, u_sims):\n",
    "    \n",
    "    mms = model_moms(alpha, beta, rho, mu, sigma, u_sims)\n",
    "    \n",
    "    return (mms - data_moms)/data_moms\n",
    "\n",
    "# Define criterion function\n",
    "\n",
    "def smm_critb(params,*args):\n",
    "    \n",
    "    alpha, rho, mu, sigma = params\n",
    "    \n",
    "    beta, u_sims = args\n",
    "    \n",
    "    err = err_vec(alpha, beta, rho, mu, sigma, u_sims)\n",
    "    \n",
    "    crit_val = err.T @ W_2 @ err\n",
    "    \n",
    "    return crit_val"
   ]
  },
  {
   "cell_type": "code",
   "execution_count": 151,
   "metadata": {},
   "outputs": [
    {
     "name": "stdout",
     "output_type": "stream",
     "text": [
      "      fun: -1621615215982449.8\n",
      " hess_inv: <4x4 LbfgsInvHessProduct with dtype=float64>\n",
      "      jac: array([  1.09335810e+16,   2.92213168e+15,   5.55851175e+14,\n",
      "        -2.25260000e+14])\n",
      "  message: b'CONVERGENCE: REL_REDUCTION_OF_F_<=_FACTR*EPSMCH'\n",
      "     nfev: 545\n",
      "      nit: 68\n",
      "   status: 0\n",
      "  success: True\n",
      "        x: array([ 0.70553161, -0.88161838,  5.25011179,  0.15090522])\n",
      "alpha smm two-step =  0.705531613525\n",
      "rho smm two-step =  -0.881618379936\n",
      "mu smm two-step =  5.25011179081\n",
      "sigma smm two-step =  0.1509052225\n",
      "Value of Minimized Criterion Function =  -1.62161521598e+15\n"
     ]
    }
   ],
   "source": [
    "# Simulated Method of Moments\n",
    "\n",
    "alpha_0 = 0.4916\n",
    "rho_0   = 0.5018\n",
    "mu_0    = 8.7595\n",
    "sigma_0 = 0.2\n",
    "params_0 = np.array([alpha_0,rho_0,mu_0,sigma_0])\n",
    "\n",
    "beta    = 0.99\n",
    "\n",
    "bounds = ((0.01, 0.99), (-0.99, 0.99), (5, 14), (0.01, 1.1))\n",
    "\n",
    "smm_args = (beta,u_sims)\n",
    "results = opt.minimize(smm_critb,params_0, args = smm_args,method = 'L-BFGS-B', bounds = bounds)\n",
    "\n",
    "alpha_smm_b, rho_smm_b, mu_smm_b, sigma_smm_b = results.x \n",
    "\n",
    "err_smm_b = err_vec(alpha_smm_b, beta, rho_smm_b, mu_smm_b, sigma_smm_b,u_sims)\n",
    "val_min_crit_smm_b = err_smm_b.T @ W_2 @ err_smm_b\n",
    "\n",
    "print(results)\n",
    "print('alpha smm two-step = ', alpha_smm_b)\n",
    "print('rho smm two-step = ', rho_smm_b)\n",
    "print('mu smm two-step = ', mu_smm_b)\n",
    "print('sigma smm two-step = ', sigma_smm_b)\n",
    "print('Value of Minimized Criterion Function = ',val_min_crit_smm_b)"
   ]
  },
  {
   "cell_type": "code",
   "execution_count": 152,
   "metadata": {},
   "outputs": [
    {
     "name": "stdout",
     "output_type": "stream",
     "text": [
      "Jacobian Matrix = \n",
      "[[  2.70149865e+01  -8.75523183e-02   1.71790795e+00   3.95330183e-02]\n",
      " [  3.54922788e+01   2.90520021e-01   1.96230745e+00   9.12952755e-01]\n",
      " [ -1.69462513e+00   1.55558529e-01   9.94716054e-13   9.30098585e-01]\n",
      " [  6.13743809e+01   5.25285263e+00   3.47434602e+00   1.79739614e+01]\n",
      " [  9.23399095e-01   1.16813127e+00  -6.16874994e-04   9.64811423e-01]\n",
      " [ -2.87614160e-01  -1.05104094e+00   9.64905301e-03  -1.38979735e+00]]\n",
      "Variance-Covariance Matrix =\n",
      "[[  7.43969783e-05   1.28460394e-05  -1.33365255e-03   1.76649806e-05]\n",
      " [  1.28460394e-05   6.05893045e-04  -2.39845070e-04   2.54342830e-04]\n",
      " [ -1.33365255e-03  -2.39845070e-04   2.39225060e-02  -3.29653797e-04]\n",
      " [  1.76649806e-05   2.54342830e-04  -3.29653797e-04   1.19873021e-04]]\n",
      "Vector of Moment Differences at Optimum = \n",
      "[-0.20835933  1.45905751 -0.35761979  0.01727652 -1.91103838 -0.150091  ]\n",
      "Standard Error alpha smm two-step =  0.00862536829991\n",
      "Standard Error rho smm two-step =  0.024614894778\n",
      "Standard Error mu smm two-step =  0.15466902081\n",
      "Standard Error sigma smm two-step =  0.0109486538431\n"
     ]
    }
   ],
   "source": [
    "# Compute and Report Standard Errors\n",
    "d_err_b = Jac_err(xvals, u_sims, alpha_smm_b, rho_smm_b, mu_smm_b, sigma_smm_b, simple = False)\n",
    "print('Jacobian Matrix = ')\n",
    "print(d_err)\n",
    "sig_hat_b = (1 / S) * lin.inv(d_err_b.T @ M @ d_err_b)\n",
    "print('Variance-Covariance Matrix =')\n",
    "print(sig_hat_b)\n",
    "print('Vector of Moment Differences at Optimum = ')\n",
    "print(err_smm_b)\n",
    "print('Standard Error alpha smm two-step = ',np.sqrt(sig_hat_b[0,0]))\n",
    "print('Standard Error rho smm two-step = ',np.sqrt(sig_hat_b[1,1]))\n",
    "print('Standard Error mu smm two-step = ',np.sqrt(sig_hat_b[2,2]))\n",
    "print('Standard Error sigma smm two-step = ',np.sqrt(sig_hat_b[3,3]))"
   ]
  }
 ],
 "metadata": {
  "kernelspec": {
   "display_name": "Python 3",
   "language": "python",
   "name": "python3"
  },
  "language_info": {
   "codemirror_mode": {
    "name": "ipython",
    "version": 3
   },
   "file_extension": ".py",
   "mimetype": "text/x-python",
   "name": "python",
   "nbconvert_exporter": "python",
   "pygments_lexer": "ipython3",
   "version": "3.6.3"
  }
 },
 "nbformat": 4,
 "nbformat_minor": 2
}
